{
 "cells": [
  {
   "cell_type": "code",
   "execution_count": null,
   "id": "5c9aa8e4-49c0-46bc-abc3-c07c9931baab",
   "metadata": {},
   "outputs": [],
   "source": [
    "import numpy as np\n",
    "mat1 = np.array([[1,2,3],[4,5,6],[7,8,9]])\n",
    "\n",
    "print(\"Matrix:\")\n",
    "print(mat1)\n",
    "print(\"Rata-rata matriks:\", mat1.mean())\n",
    "\n",
    "print(\"Mean per kolom:\", mat1.mean(axis=0))\n",
    "print(\"Std dev per kolom:\", mat1.std(axis=0))\n",
    "print(\"Sum per kolom:\", mat1.sum(axis=0))\n",
    "\n",
    "print(\"Matrix * 10:\")\n",
    "print(mat1 * 10)"
   ]
  },
  {
   "cell_type": "code",
   "execution_count": null,
   "id": "b8d2ecba-0b95-448f-ae2b-a05654725892",
   "metadata": {},
   "outputs": [],
   "source": [
    "import pandas as pd\n",
    "import os\n",
    "\n",
    "data = {\n",
    "    \"Nama\": [\"Ani\", \"Budi\", \"Citra\", \"Dewi\"],\n",
    "    \"Nilai_Math\": [80, 90, 70, 85],\n",
    "    \"Nilai_English\": [75, 95, 65, 88]\n",
    "}\n",
    "df = pd.DataFrame(data)\n",
    "\n",
    "print(df.head())\n",
    "\n",
    "# Operasi dasar\n",
    "print(\"Rata-rata tiap kolom:\\n\", df.mean(numeric_only=True))\n",
    "print(\"Sort by Math:\\n\", df.sort_values(\"Nilai_Math\", ascending=False))\n",
    "\n",
    "# Filtering\n",
    "print(\"Nilai Math > 80:\\n\", df[df[\"Nilai_Math\"] > 80])\n",
    "\n",
    "#Kolom baru\n",
    "df[\"Nilai_Average\"] = (df[\"Nilai_Math\"] + df[\"Nilai_English\"]) / 2\n",
    "\n",
    "# Rata-rata perkelas\n",
    "df[\"Kelas\"] = [\"A\", \"B\", \"A\", \"B\"]\n",
    "df.groupby(\"Kelas\")[[\"Nilai_Math\", \"Nilai_English\"]].mean()\n",
    "\n",
    "os.makedirs(\"data\", exist_ok=True)\n",
    "\n",
    "# Import file\n",
    "df.to_csv(\"data/student_scores.csv\", index = False)\n",
    "df_baru = pd.read_csv(\"data/student_scores.csv\")\n",
    "print(df_baru)\n",
    "print(\"\\nInfo dataset:\")\n",
    "print(df_baru.info())\n",
    "print(\"\\nStatistik deskriptif:\")\n",
    "print(df_baru.describe())\n",
    "\n"
   ]
  }
 ],
 "metadata": {
  "kernelspec": {
   "display_name": "Python 3 (ipykernel)",
   "language": "python",
   "name": "python3"
  },
  "language_info": {
   "codemirror_mode": {
    "name": "ipython",
    "version": 3
   },
   "file_extension": ".py",
   "mimetype": "text/x-python",
   "name": "python",
   "nbconvert_exporter": "python",
   "pygments_lexer": "ipython3",
   "version": "3.11.13"
  }
 },
 "nbformat": 4,
 "nbformat_minor": 5
}
